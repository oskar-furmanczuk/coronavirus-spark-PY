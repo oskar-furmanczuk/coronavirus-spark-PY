{
  "nbformat": 4,
  "nbformat_minor": 0,
  "metadata": {
    "colab": {
      "name": "coronavirus-spark.ipynb",
      "provenance": [],
      "authorship_tag": "ABX9TyP5FkdfeoObN9MBkuvl1gSo",
      "include_colab_link": true
    },
    "kernelspec": {
      "name": "python3",
      "display_name": "Python 3"
    }
  },
  "cells": [
    {
      "cell_type": "markdown",
      "metadata": {
        "id": "view-in-github",
        "colab_type": "text"
      },
      "source": [
        "<a href=\"https://colab.research.google.com/github/oskar-furmanczuk/coronavirus-spark-PY/blob/master/coronavirus_spark.ipynb\" target=\"_parent\"><img src=\"https://colab.research.google.com/assets/colab-badge.svg\" alt=\"Open In Colab\"/></a>"
      ]
    },
    {
      "cell_type": "code",
      "metadata": {
        "id": "EI8po0LlimLl",
        "colab_type": "code",
        "colab": {}
      },
      "source": [
        "# By projekt był kompatybilny ze standardowym środowiskiem Google Colab niezbędny jest run poniższego bloku kodu\n",
        "%%capture\n",
        "!apt-get install openjdk-8-jdk-headless -qq > /dev/null\n",
        "!wget -q https://www-us.apache.org/dist/spark/spark-3.0.0-preview2/spark-3.0.0-preview2-bin-hadoop3.2.tgz\n",
        "!tar -xvf spark-3.0.0-preview2-bin-hadoop3.2.tgz\n",
        "!pip install -q findspark\n",
        "import os\n",
        "os.environ[\"JAVA_HOME\"] = \"/usr/lib/jvm/java-8-openjdk-amd64\"\n",
        "os.environ[\"SPARK_HOME\"] = \"/content/spark-3.0.0-preview2-bin-hadoop3.2\""
      ],
      "execution_count": 0,
      "outputs": []
    },
    {
      "cell_type": "code",
      "metadata": {
        "id": "lNnH1Ybqj0Zr",
        "colab_type": "code",
        "colab": {}
      },
      "source": [
        "import findspark\n",
        "findspark.init()\n",
        "from pyspark.sql import SparkSession\n",
        "spark = SparkSession.builder.master(\"local[*]\").getOrCreate()"
      ],
      "execution_count": 0,
      "outputs": []
    },
    {
      "cell_type": "code",
      "metadata": {
        "id": "3Ag7PoP8bctC",
        "colab_type": "code",
        "colab": {}
      },
      "source": [
        "import matplotlib.pyplot as plt\n",
        "import pandas as pd\n",
        "import numpy as np"
      ],
      "execution_count": 0,
      "outputs": []
    },
    {
      "cell_type": "code",
      "metadata": {
        "id": "GjfqUvZTqclD",
        "colab_type": "code",
        "outputId": "279b7237-5861-4cc7-96c1-9b8c7cfeab4c",
        "colab": {
          "base_uri": "https://localhost:8080/",
          "height": 756
        }
      },
      "source": [
        "url = \"https://opendata.ecdc.europa.eu/covid19/casedistribution/csv\"\n",
        "df = pd.read_csv(url)\n",
        "print(\"\\nPRZED USUNIĘCIEM NIEPEŁNYCH WIERSZY\\n\")\n",
        "df.info()\n",
        "df.dropna(inplace=True)\n",
        "print(\"\\nPO USUNIĘCIU NIEPEŁNYCH WIERSZY\\n\")\n",
        "df.info()"
      ],
      "execution_count": 4,
      "outputs": [
        {
          "output_type": "stream",
          "text": [
            "\n",
            "PRZED USUNIĘCIEM NIEPEŁNYCH WIERSZY\n",
            "\n",
            "<class 'pandas.core.frame.DataFrame'>\n",
            "RangeIndex: 22801 entries, 0 to 22800\n",
            "Data columns (total 11 columns):\n",
            " #   Column                   Non-Null Count  Dtype  \n",
            "---  ------                   --------------  -----  \n",
            " 0   dateRep                  22801 non-null  object \n",
            " 1   day                      22801 non-null  int64  \n",
            " 2   month                    22801 non-null  int64  \n",
            " 3   year                     22801 non-null  int64  \n",
            " 4   cases                    22801 non-null  int64  \n",
            " 5   deaths                   22801 non-null  int64  \n",
            " 6   countriesAndTerritories  22801 non-null  object \n",
            " 7   geoId                    22712 non-null  object \n",
            " 8   countryterritoryCode     22473 non-null  object \n",
            " 9   popData2018              22455 non-null  float64\n",
            " 10  continentExp             22801 non-null  object \n",
            "dtypes: float64(1), int64(5), object(5)\n",
            "memory usage: 1.9+ MB\n",
            "\n",
            "PO USUNIĘCIU NIEPEŁNYCH WIERSZY\n",
            "\n",
            "<class 'pandas.core.frame.DataFrame'>\n",
            "Int64Index: 22302 entries, 0 to 22800\n",
            "Data columns (total 11 columns):\n",
            " #   Column                   Non-Null Count  Dtype  \n",
            "---  ------                   --------------  -----  \n",
            " 0   dateRep                  22302 non-null  object \n",
            " 1   day                      22302 non-null  int64  \n",
            " 2   month                    22302 non-null  int64  \n",
            " 3   year                     22302 non-null  int64  \n",
            " 4   cases                    22302 non-null  int64  \n",
            " 5   deaths                   22302 non-null  int64  \n",
            " 6   countriesAndTerritories  22302 non-null  object \n",
            " 7   geoId                    22302 non-null  object \n",
            " 8   countryterritoryCode     22302 non-null  object \n",
            " 9   popData2018              22302 non-null  float64\n",
            " 10  continentExp             22302 non-null  object \n",
            "dtypes: float64(1), int64(5), object(5)\n",
            "memory usage: 2.0+ MB\n"
          ],
          "name": "stdout"
        }
      ]
    },
    {
      "cell_type": "code",
      "metadata": {
        "id": "iihN5i0guC5Y",
        "colab_type": "code",
        "outputId": "9bfda3ad-9423-4e53-cc58-433a11036b50",
        "colab": {
          "base_uri": "https://localhost:8080/",
          "height": 474
        }
      },
      "source": [
        "dataset = spark.createDataFrame(df)\n",
        "dataset.show()"
      ],
      "execution_count": 5,
      "outputs": [
        {
          "output_type": "stream",
          "text": [
            "+----------+---+-----+----+-----+------+-----------------------+-----+--------------------+-----------+------------+\n",
            "|   dateRep|day|month|year|cases|deaths|countriesAndTerritories|geoId|countryterritoryCode|popData2018|continentExp|\n",
            "+----------+---+-----+----+-----+------+-----------------------+-----+--------------------+-----------+------------+\n",
            "|11/06/2020| 11|    6|2020|  684|    21|            Afghanistan|   AF|                 AFG|3.7172386E7|        Asia|\n",
            "|10/06/2020| 10|    6|2020|  542|    15|            Afghanistan|   AF|                 AFG|3.7172386E7|        Asia|\n",
            "|09/06/2020|  9|    6|2020|  575|    12|            Afghanistan|   AF|                 AFG|3.7172386E7|        Asia|\n",
            "|08/06/2020|  8|    6|2020|  791|    30|            Afghanistan|   AF|                 AFG|3.7172386E7|        Asia|\n",
            "|07/06/2020|  7|    6|2020|  582|    18|            Afghanistan|   AF|                 AFG|3.7172386E7|        Asia|\n",
            "|06/06/2020|  6|    6|2020|  915|     9|            Afghanistan|   AF|                 AFG|3.7172386E7|        Asia|\n",
            "|05/06/2020|  5|    6|2020|  787|     6|            Afghanistan|   AF|                 AFG|3.7172386E7|        Asia|\n",
            "|04/06/2020|  4|    6|2020|  758|    24|            Afghanistan|   AF|                 AFG|3.7172386E7|        Asia|\n",
            "|03/06/2020|  3|    6|2020|  759|     5|            Afghanistan|   AF|                 AFG|3.7172386E7|        Asia|\n",
            "|02/06/2020|  2|    6|2020|  545|     8|            Afghanistan|   AF|                 AFG|3.7172386E7|        Asia|\n",
            "|01/06/2020|  1|    6|2020|  680|     8|            Afghanistan|   AF|                 AFG|3.7172386E7|        Asia|\n",
            "|31/05/2020| 31|    5|2020|  866|     3|            Afghanistan|   AF|                 AFG|3.7172386E7|        Asia|\n",
            "|30/05/2020| 30|    5|2020|  623|    11|            Afghanistan|   AF|                 AFG|3.7172386E7|        Asia|\n",
            "|29/05/2020| 29|    5|2020|  580|     8|            Afghanistan|   AF|                 AFG|3.7172386E7|        Asia|\n",
            "|28/05/2020| 28|    5|2020|  625|     7|            Afghanistan|   AF|                 AFG|3.7172386E7|        Asia|\n",
            "|27/05/2020| 27|    5|2020|  658|     1|            Afghanistan|   AF|                 AFG|3.7172386E7|        Asia|\n",
            "|26/05/2020| 26|    5|2020|  591|     1|            Afghanistan|   AF|                 AFG|3.7172386E7|        Asia|\n",
            "|25/05/2020| 25|    5|2020|  584|     2|            Afghanistan|   AF|                 AFG|3.7172386E7|        Asia|\n",
            "|24/05/2020| 24|    5|2020|  782|    11|            Afghanistan|   AF|                 AFG|3.7172386E7|        Asia|\n",
            "|23/05/2020| 23|    5|2020|  540|    12|            Afghanistan|   AF|                 AFG|3.7172386E7|        Asia|\n",
            "+----------+---+-----+----+-----+------+-----------------------+-----+--------------------+-----------+------------+\n",
            "only showing top 20 rows\n",
            "\n"
          ],
          "name": "stdout"
        }
      ]
    },
    {
      "cell_type": "code",
      "metadata": {
        "id": "-ZkNOjUewj6K",
        "colab_type": "code",
        "outputId": "9ba815ba-6e9b-47f6-f334-29cee5904034",
        "colab": {
          "base_uri": "https://localhost:8080/",
          "height": 246
        }
      },
      "source": [
        "dataset.printSchema()"
      ],
      "execution_count": 6,
      "outputs": [
        {
          "output_type": "stream",
          "text": [
            "root\n",
            " |-- dateRep: string (nullable = true)\n",
            " |-- day: long (nullable = true)\n",
            " |-- month: long (nullable = true)\n",
            " |-- year: long (nullable = true)\n",
            " |-- cases: long (nullable = true)\n",
            " |-- deaths: long (nullable = true)\n",
            " |-- countriesAndTerritories: string (nullable = true)\n",
            " |-- geoId: string (nullable = true)\n",
            " |-- countryterritoryCode: string (nullable = true)\n",
            " |-- popData2018: double (nullable = true)\n",
            " |-- continentExp: string (nullable = true)\n",
            "\n"
          ],
          "name": "stdout"
        }
      ]
    },
    {
      "cell_type": "code",
      "metadata": {
        "id": "hkWK4V1Qw27_",
        "colab_type": "code",
        "outputId": "f96276fa-621e-4300-d844-704a3f0c6ad4",
        "colab": {
          "base_uri": "https://localhost:8080/",
          "height": 494
        }
      },
      "source": [
        "import pyspark.sql.functions as F\n",
        "dataset = dataset.withColumn(\"daily_cases_per_100k_inhabitants\", dataset.cases * 100000/dataset.popData2018)\n",
        "dataset = dataset.withColumn(\"daily_deaths_per_100k_inhabitants\", dataset.deaths * 100000/dataset.popData2018)\n",
        "dataset.show()\n",
        "dataset.createOrReplaceTempView(\"dataset\")"
      ],
      "execution_count": 7,
      "outputs": [
        {
          "output_type": "stream",
          "text": [
            "+----------+---+-----+----+-----+------+-----------------------+-----+--------------------+-----------+------------+--------------------------------+---------------------------------+\n",
            "|   dateRep|day|month|year|cases|deaths|countriesAndTerritories|geoId|countryterritoryCode|popData2018|continentExp|daily_cases_per_100k_inhabitants|daily_deaths_per_100k_inhabitants|\n",
            "+----------+---+-----+----+-----+------+-----------------------+-----+--------------------+-----------+------------+--------------------------------+---------------------------------+\n",
            "|11/06/2020| 11|    6|2020|  684|    21|            Afghanistan|   AF|                 AFG|3.7172386E7|        Asia|              1.8400755872921366|              0.05649354873265332|\n",
            "|10/06/2020| 10|    6|2020|  542|    15|            Afghanistan|   AF|                 AFG|3.7172386E7|        Asia|              1.4580715910999096|              0.04035253480903808|\n",
            "|09/06/2020|  9|    6|2020|  575|    12|            Afghanistan|   AF|                 AFG|3.7172386E7|        Asia|              1.5468471676797932|              0.03228202784723047|\n",
            "|08/06/2020|  8|    6|2020|  791|    30|            Afghanistan|   AF|                 AFG|3.7172386E7|        Asia|              2.1279236689299417|              0.08070506961807616|\n",
            "|07/06/2020|  7|    6|2020|  582|    18|            Afghanistan|   AF|                 AFG|3.7172386E7|        Asia|              1.5656783505906777|               0.0484230417708457|\n",
            "|06/06/2020|  6|    6|2020|  915|     9|            Afghanistan|   AF|                 AFG|3.7172386E7|        Asia|               2.461504623351323|              0.02421152088542285|\n",
            "|05/06/2020|  5|    6|2020|  787|     6|            Afghanistan|   AF|                 AFG|3.7172386E7|        Asia|               2.117162992980865|             0.016141013923615236|\n",
            "|04/06/2020|  4|    6|2020|  758|    24|            Afghanistan|   AF|                 AFG|3.7172386E7|        Asia|               2.039148092350058|              0.06456405569446094|\n",
            "|03/06/2020|  3|    6|2020|  759|     5|            Afghanistan|   AF|                 AFG|3.7172386E7|        Asia|               2.041838261337327|             0.013450844936346028|\n",
            "|02/06/2020|  2|    6|2020|  545|     8|            Afghanistan|   AF|                 AFG|3.7172386E7|        Asia|               1.466142098061717|             0.021521351898153646|\n",
            "|01/06/2020|  1|    6|2020|  680|     8|            Afghanistan|   AF|                 AFG|3.7172386E7|        Asia|              1.8293149113430598|             0.021521351898153646|\n",
            "|31/05/2020| 31|    5|2020|  866|     3|            Afghanistan|   AF|                 AFG|3.7172386E7|        Asia|               2.329686342975132|             0.008070506961807618|\n",
            "|30/05/2020| 30|    5|2020|  623|    11|            Afghanistan|   AF|                 AFG|3.7172386E7|        Asia|              1.6759752790687152|             0.029591858859961264|\n",
            "|29/05/2020| 29|    5|2020|  580|     8|            Afghanistan|   AF|                 AFG|3.7172386E7|        Asia|              1.5602980126161392|             0.021521351898153646|\n",
            "|28/05/2020| 28|    5|2020|  625|     7|            Afghanistan|   AF|                 AFG|3.7172386E7|        Asia|              1.6813556170432535|              0.01883118291088444|\n",
            "|27/05/2020| 27|    5|2020|  658|     1|            Afghanistan|   AF|                 AFG|3.7172386E7|        Asia|              1.7701311936231374|             0.002690168987269206|\n",
            "|26/05/2020| 26|    5|2020|  591|     1|            Afghanistan|   AF|                 AFG|3.7172386E7|        Asia|              1.5898898714761005|             0.002690168987269206|\n",
            "|25/05/2020| 25|    5|2020|  584|     2|            Afghanistan|   AF|                 AFG|3.7172386E7|        Asia|               1.571058688565216|             0.005380337974538412|\n",
            "|24/05/2020| 24|    5|2020|  782|    11|            Afghanistan|   AF|                 AFG|3.7172386E7|        Asia|              2.1037121480445187|             0.029591858859961264|\n",
            "|23/05/2020| 23|    5|2020|  540|    12|            Afghanistan|   AF|                 AFG|3.7172386E7|        Asia|               1.452691253125371|              0.03228202784723047|\n",
            "+----------+---+-----+----+-----+------+-----------------------+-----+--------------------+-----------+------------+--------------------------------+---------------------------------+\n",
            "only showing top 20 rows\n",
            "\n"
          ],
          "name": "stdout"
        }
      ]
    },
    {
      "cell_type": "code",
      "metadata": {
        "id": "z5ezaMmMtMGK",
        "colab_type": "code",
        "outputId": "6847d933-2545-4f26-88ca-a6ba48e7a351",
        "colab": {
          "base_uri": "https://localhost:8080/",
          "height": 296
        }
      },
      "source": [
        "dataset_PL = dataset.filter(dataset.geoId==\"PL\")\n",
        "dataset_PL = dataset_PL.orderBy(dataset_PL.year,dataset_PL.month, dataset_PL.day )\n",
        "df_PL = dataset_PL.toPandas()\n",
        "df_PL.cases.cumsum().plot(title = \"Koronawirus w polsce\", legend=True)\n",
        "df_PL.deaths.cumsum().plot(legend=True)\n",
        "plt.xlabel('dzień epidemi')\n",
        "plt.ylabel('ilość przypadków')\n",
        "plt.show()\n"
      ],
      "execution_count": 8,
      "outputs": [
        {
          "output_type": "display_data",
          "data": {
            "image/png": "[encoded data removed]",
            "text/plain": [
              "<Figure size 432x288 with 1 Axes>"
            ]
          },
          "metadata": {
            "tags": [],
            "needs_background": "light"
          }
        }
      ]
    },
    {
      "cell_type": "code",
      "metadata": {
        "id": "m59GermN8nd5",
        "colab_type": "code",
        "outputId": "b21b927d-1906-4c8d-bce2-04592a7f039d",
        "colab": {
          "base_uri": "https://localhost:8080/",
          "height": 474
        }
      },
      "source": [
        "tab1 = spark.sql(\n",
        "    \"SELECT countriesAndTerritories, sum(cases) as cases_per_country, sum(deaths) as deaths_per_country\\\n",
        "     FROM dataset \\\n",
        "     GROUP BY countriesAndTerritories \\\n",
        "     ORDER BY cases_per_country DESC\" \n",
        "    )\n",
        "tab1.createOrReplaceTempView(\"tab1\")\n",
        "tab1.show()"
      ],
      "execution_count": 9,
      "outputs": [
        {
          "output_type": "stream",
          "text": [
            "+-----------------------+-----------------+------------------+\n",
            "|countriesAndTerritories|cases_per_country|deaths_per_country|\n",
            "+-----------------------+-----------------+------------------+\n",
            "|   United_States_of_...|          2000464|            112924|\n",
            "|                 Brazil|           772416|             39680|\n",
            "|                 Russia|           493657|              6358|\n",
            "|         United_Kingdom|           290143|             41128|\n",
            "|                  India|           286579|              8102|\n",
            "|                  Spain|           242280|             27136|\n",
            "|                  Italy|           235763|             34114|\n",
            "|                   Peru|           208823|              5903|\n",
            "|                Germany|           185416|              8755|\n",
            "|                   Iran|           177938|              8506|\n",
            "|                 Turkey|           173036|              4746|\n",
            "|                 France|           155136|             29319|\n",
            "|                  Chile|           148496|              2475|\n",
            "|                 Mexico|           129184|             15357|\n",
            "|               Pakistan|           119536|              2356|\n",
            "|           Saudi_Arabia|           112288|               819|\n",
            "|                 Canada|            97114|              7960|\n",
            "|                  China|            84209|              4638|\n",
            "|             Bangladesh|            74865|              1012|\n",
            "|                  Qatar|            73595|                66|\n",
            "+-----------------------+-----------------+------------------+\n",
            "only showing top 20 rows\n",
            "\n"
          ],
          "name": "stdout"
        }
      ]
    },
    {
      "cell_type": "code",
      "metadata": {
        "id": "aYR1mJUKGhtL",
        "colab_type": "code",
        "outputId": "4927709b-a5dd-4c87-ae82-66067595e847",
        "colab": {
          "base_uri": "https://localhost:8080/",
          "height": 1000
        }
      },
      "source": [
        "print(\"\\nTABELA PRZEDSTAIWAJĄCA ILOŚĆ ZACHOROWAŃ PER KRAJ NA 1OO 000 MIESZKAŃCÓW\\n\")\n",
        "tab2 = spark.sql(\n",
        "    \"SELECT DISTINCT dataset.countriesAndTerritories, dataset.geoId, (cases_per_country/dataset.popData2018 * 100000) AS cases_per_100k_inhabitants \\\n",
        "    FROM tab1 INNER JOIN dataset ON tab1.countriesAndTerritories = dataset.countriesAndTerritories \\\n",
        "    ORDER BY cases_per_100k_inhabitants DESC\"\n",
        "    )\n",
        "tab2.show()\n",
        "\n",
        "print(\"\\nTABELA PRZEDSTAIWAJĄCA ILOŚĆ ZGONÓW PER KRAJ NA 1OO 000 MIESZKAŃCÓW\\n\")\n",
        "tab3 = spark.sql(\n",
        "    \"SELECT DISTINCT dataset.countriesAndTerritories, dataset.geoId, (deaths_per_country/dataset.popData2018 * 100000) AS deaths_per_100k_inhabitants \\\n",
        "    FROM tab1 INNER JOIN dataset ON tab1.countriesAndTerritories = dataset.countriesAndTerritories \\\n",
        "    ORDER BY deaths_per_100k_inhabitants DESC\"\n",
        "    )\n",
        "tab3.show()"
      ],
      "execution_count": 10,
      "outputs": [
        {
          "output_type": "stream",
          "text": [
            "\n",
            "TABELA PRZEDSTAIWAJĄCA ILOŚĆ ZACHOROWAŃ PER KRAJ NA 1OO 000 MIESZKAŃCÓW\n",
            "\n",
            "+-----------------------+-----+--------------------------+\n",
            "|countriesAndTerritories|geoId|cases_per_100k_inhabitants|\n",
            "+-----------------------+-----+--------------------------+\n",
            "|                  Qatar|   QA|        2645.7061693359797|\n",
            "|             San_Marino|   SM|        2045.2863696906913|\n",
            "|               Holy_See|   VA|                    1200.0|\n",
            "|                Andorra|   AD|        1106.4072929382125|\n",
            "|                Bahrain|   BH|        1032.2159701651353|\n",
            "|                 Kuwait|   KW|          817.512059166961|\n",
            "|                  Chile|   CL|         792.8599040213228|\n",
            "|              Singapore|   SG|          691.031015082264|\n",
            "|             Luxembourg|   LU|         666.2520074770292|\n",
            "|                   Peru|   PE|         652.7910495949016|\n",
            "|   United_States_of_...|   US|         611.4496102322946|\n",
            "|                Belarus|   BY|         538.3650175122025|\n",
            "|              Gibraltar|   GI|         521.9763924313423|\n",
            "|                Belgium|   BE|         521.5255240994888|\n",
            "|                Ireland|   IE|          519.851010795083|\n",
            "|                  Spain|   ES|         518.5371576240597|\n",
            "|                Iceland|   IS|        511.06699021986907|\n",
            "|                Armenia|   AM|         477.7801567598625|\n",
            "|                 Sweden|   SE|        459.71909546875116|\n",
            "|               Djibouti|   DJ|         456.0338714387019|\n",
            "+-----------------------+-----+--------------------------+\n",
            "only showing top 20 rows\n",
            "\n",
            "\n",
            "TABELA PRZEDSTAIWAJĄCA ILOŚĆ ZGONÓW PER KRAJ NA 1OO 000 MIESZKAŃCÓW\n",
            "\n",
            "+-----------------------+-----+---------------------------+\n",
            "|countriesAndTerritories|geoId|deaths_per_100k_inhabitants|\n",
            "+-----------------------+-----+---------------------------+\n",
            "|             San_Marino|   SM|         124.31552464111293|\n",
            "|                Belgium|   BE|          84.30172189484426|\n",
            "|                Andorra|   AD|          66.22860556320288|\n",
            "|         United_Kingdom|   UK|          61.85685687424554|\n",
            "|                  Spain|   ES|         58.077531406993906|\n",
            "|                  Italy|   IT|          56.45089481221175|\n",
            "|                 Sweden|   SE|          47.08747517350925|\n",
            "|                 France|   FR|          43.76803440368438|\n",
            "|           Sint_Maarten|   SX|          36.15677577978113|\n",
            "|            Netherlands|   NL|         35.064674360195916|\n",
            "|                Ireland|   IE|          34.92320808916276|\n",
            "|   United_States_of_...|   US|          34.51566025975556|\n",
            "|            Isle_of_Man|   IM|         28.545262081187484|\n",
            "|                 Jersey|   JE|          28.08988764044944|\n",
            "|                Ecuador|   EC|         21.774304997255676|\n",
            "|                 Canada|   CA|         21.479346259366455|\n",
            "|               Guernsey|   GG|         20.626408149017866|\n",
            "|            Switzerland|   CH|         19.655862713309848|\n",
            "|                 Brazil|   BR|         18.943107056153178|\n",
            "|                   Peru|   PE|          18.45307061846015|\n",
            "+-----------------------+-----+---------------------------+\n",
            "only showing top 20 rows\n",
            "\n"
          ],
          "name": "stdout"
        }
      ]
    },
    {
      "cell_type": "code",
      "metadata": {
        "id": "QI6tyhhmHuKv",
        "colab_type": "code",
        "outputId": "7cc69b13-db8f-432d-a796-78470afb30b8",
        "colab": {
          "base_uri": "https://localhost:8080/",
          "height": 313
        }
      },
      "source": [
        "df1 = tab2.limit(15).toPandas()\n",
        "df2 = tab3.limit(15).toPandas()\n",
        "plt.subplot(2,1,1)\n",
        "plt.bar(df1.geoId, df1.cases_per_100k_inhabitants)\n",
        "plt.title(\"WYKRES PRZEDSTAIWAJĄCY ILOŚĆ ZACHOROWAŃ PER KRAJ NA 1OO 000 MIESZKAŃCÓW \")\n",
        "plt.show()\n",
        "plt.subplot(2,1,2)\n",
        "plt.bar(df2.geoId, df2.deaths_per_100k_inhabitants)\n",
        "plt.title(\"WYKRES PRZEDSTAIWAJĄCY ILOŚĆ ZGONY PER KRAJ NA 1OO 000 MIESZKAŃCÓW \")\n",
        "plt.show()"
      ],
      "execution_count": 11,
      "outputs": [
        {
          "output_type": "display_data",
          "data": {
            "image/png": "[encoded data removed]",
            "text/plain": [
              "<Figure size 432x288 with 1 Axes>"
            ]
          },
          "metadata": {
            "tags": [],
            "needs_background": "light"
          }
        },
        {
          "output_type": "display_data",
          "data": {
            "image/png": "[encoded data removed]",
            "text/plain": [
              "<Figure size 432x288 with 1 Axes>"
            ]
          },
          "metadata": {
            "tags": [],
            "needs_background": "light"
          }
        }
      ]
    },
    {
      "cell_type": "code",
      "metadata": {
        "id": "e-Gfq5fgQZl9",
        "colab_type": "code",
        "outputId": "108062c0-9029-46b9-897b-30f40dbf9d1e",
        "colab": {
          "base_uri": "https://localhost:8080/",
          "height": 474
        }
      },
      "source": [
        "### ANALIZA PORÓWNAWCZA - PORÓWNANIE ILOŚCI ZGONÓW W POLSCE I SZWAJCARII\n",
        "\n",
        "tab_pl = spark.sql(\n",
        "    \"SELECT * \\\n",
        "     FROM dataset \\\n",
        "     WHERE geoId LIKE 'PL' \\\n",
        "     ORDER BY YEAR, MONTH, DAY \"\n",
        "    )\n",
        "tab_pl.createOrReplaceTempView(\"tab_pl\")\n",
        "\n",
        "tab_ch = spark.sql(\n",
        "    \"SELECT * \\\n",
        "     FROM dataset \\\n",
        "     WHERE geoId LIKE 'CH' \\\n",
        "     ORDER BY YEAR, MONTH, DAY \"\n",
        "    )\n",
        "tab_ch.createOrReplaceTempView(\"tab_ch\")\n",
        "\n",
        "tab_join = spark.sql(\n",
        "    \"SELECT DISTINCT tab_pl.dateRep,tab_pl.year, tab_pl.month, tab_pl.day, tab_ch.daily_deaths_per_100k_inhabitants AS daily_deaths_per_100k_inhabitants_in_Switzerland, tab_pl.daily_deaths_per_100k_inhabitants AS daily_deaths_per_100k_inhabitants_in_Poland \\\n",
        "     FROM tab_pl INNER JOIN tab_ch ON tab_pl.dateRep = tab_ch.dateRep \\\n",
        "     ORDER BY 2,3,4 \"\n",
        "    )\n",
        "tab_join.createOrReplaceTempView(\"tab_join\")\n",
        "tab_join.show()"
      ],
      "execution_count": 12,
      "outputs": [
        {
          "output_type": "stream",
          "text": [
            "+----------+----+-----+---+------------------------------------------------+-------------------------------------------+\n",
            "|   dateRep|year|month|day|daily_deaths_per_100k_inhabitants_in_Switzerland|daily_deaths_per_100k_inhabitants_in_Poland|\n",
            "+----------+----+-----+---+------------------------------------------------+-------------------------------------------+\n",
            "|04/03/2020|2020|    3|  4|                                             0.0|                                        0.0|\n",
            "|07/03/2020|2020|    3|  7|                                             0.0|                                        0.0|\n",
            "|08/03/2020|2020|    3|  8|                                             0.0|                                        0.0|\n",
            "|09/03/2020|2020|    3|  9|                            0.011741853472706003|                                        0.0|\n",
            "|10/03/2020|2020|    3| 10|                                             0.0|                                        0.0|\n",
            "|11/03/2020|2020|    3| 11|                            0.011741853472706003|                                        0.0|\n",
            "|12/03/2020|2020|    3| 12|                            0.011741853472706003|                                        0.0|\n",
            "|13/03/2020|2020|    3| 13|                                             0.0|                       0.002633065382067...|\n",
            "|14/03/2020|2020|    3| 14|                             0.03522556041811801|                       0.002633065382067...|\n",
            "|15/03/2020|2020|    3| 15|                             0.04696741389082401|                       0.002633065382067...|\n",
            "|16/03/2020|2020|    3| 16|                            0.023483706945412006|                                        0.0|\n",
            "|17/03/2020|2020|    3| 17|                            0.011741853472706003|                       0.002633065382067...|\n",
            "|18/03/2020|2020|    3| 18|                            0.058709267363530014|                       0.002633065382067...|\n",
            "|19/03/2020|2020|    3| 19|                            0.023483706945412006|                                        0.0|\n",
            "|20/03/2020|2020|    3| 20|                             0.14090224167247203|                                        0.0|\n",
            "|21/03/2020|2020|    3| 21|                             0.11741853472706003|                                        0.0|\n",
            "|22/03/2020|2020|    3| 22|                             0.15264409514517804|                                        0.0|\n",
            "|23/03/2020|2020|    3| 23|                             0.04696741389082401|                       0.005266130764135...|\n",
            "|24/03/2020|2020|    3| 24|                             0.07045112083623602|                       0.002633065382067...|\n",
            "|25/03/2020|2020|    3| 25|                             0.23483706945412006|                       0.005266130764135...|\n",
            "+----------+----+-----+---+------------------------------------------------+-------------------------------------------+\n",
            "only showing top 20 rows\n",
            "\n"
          ],
          "name": "stdout"
        }
      ]
    },
    {
      "cell_type": "code",
      "metadata": {
        "id": "OmmOlQU79fEZ",
        "colab_type": "code",
        "outputId": "e299e738-8ad9-4e57-a176-4ac5ff1a4fb5",
        "colab": {
          "base_uri": "https://localhost:8080/",
          "height": 646
        }
      },
      "source": [
        "df_join = tab_join.toPandas()\n",
        "df_join.set_index('dateRep')\n",
        "df_join.daily_deaths_per_100k_inhabitants_in_Switzerland.plot(title = \"Dzienne zgony na 100k mieszańców\", legend=True)\n",
        "plt.xlabel('dzień epidemi')\n",
        "plt.ylabel('ilość zmarłych')\n",
        "df_join.daily_deaths_per_100k_inhabitants_in_Poland.plot(legend=True)\n",
        "\n",
        "plt.show()\n",
        "\n",
        "df_join = tab_join.toPandas()\n",
        "df_join.daily_deaths_per_100k_inhabitants_in_Switzerland.rolling(window = 10).mean().plot(title = \"Dzienne zgony na 100k mieszańców - średnia ruchoma (N=10)\", legend=True)\n",
        "plt.xlabel('dzień epidemi')\n",
        "plt.ylabel('ilość zmarłych')\n",
        "df_join.daily_deaths_per_100k_inhabitants_in_Poland.rolling(window = 10).mean().plot(legend=True)\n",
        "\n",
        "plt.show()\n",
        "print(\"- Jak można wnioskować z wykresu Szajcarzy dużo dotkliwiej odczuli skutki epidemi. \\\n",
        "\\n- W ostatnich 40 dniach epidemii można zauważyć stosunkowy spadek śmiertelnści na terenie Szwajcarii.   \\\n",
        "\\n- W polsce wskażnik ten jest  stabilny i utrzymuję się na stosunkowo niskim poziomie. \\\n",
        "\\n- Można również zauważyć że w ciągu ostatnich 30 dni wkaźnik dla Polski i Szwajcarii utrzymuję się na zbliżonym poziomie.\" )"
      ],
      "execution_count": 13,
      "outputs": [
        {
          "output_type": "display_data",
          "data": {
            "image/png": "[encoded data removed]",
            "text/plain": [
              "<Figure size 432x288 with 1 Axes>"
            ]
          },
          "metadata": {
            "tags": [],
            "needs_background": "light"
          }
        },
        {
          "output_type": "display_data",
          "data": {
            "image/png": "[encoded data removed]",
            "text/plain": [
              "<Figure size 432x288 with 1 Axes>"
            ]
          },
          "metadata": {
            "tags": [],
            "needs_background": "light"
          }
        },
        {
          "output_type": "stream",
          "text": [
            "- Jak można wnioskować z wykresu Szajcarzy dużo dotkliwiej odczuli skutki epidemi. \n",
            "- W ostatnich 40 dniach epidemii można zauważyć stosunkowy spadek śmiertelnści na terenie Szwajcarii.   \n",
            "- W polsce wskażnik ten jest  stabilny i utrzymuję się na stosunkowo niskim poziomie. \n",
            "- Można również zauważyć że w ciągu ostatnich 30 dni wkaźnik dla Polski i Szwajcarii utrzymuję się na zbliżonym poziomie.\n"
          ],
          "name": "stdout"
        }
      ]
    },
    {
      "cell_type": "code",
      "metadata": {
        "id": "2SbYnL0QJN8d",
        "colab_type": "code",
        "outputId": "f3986650-e371-4a2b-cca9-832c72a88bb4",
        "colab": {
          "base_uri": "https://localhost:8080/",
          "height": 334
        }
      },
      "source": [
        "df.info()"
      ],
      "execution_count": 14,
      "outputs": [
        {
          "output_type": "stream",
          "text": [
            "<class 'pandas.core.frame.DataFrame'>\n",
            "Int64Index: 22302 entries, 0 to 22800\n",
            "Data columns (total 11 columns):\n",
            " #   Column                   Non-Null Count  Dtype  \n",
            "---  ------                   --------------  -----  \n",
            " 0   dateRep                  22302 non-null  object \n",
            " 1   day                      22302 non-null  int64  \n",
            " 2   month                    22302 non-null  int64  \n",
            " 3   year                     22302 non-null  int64  \n",
            " 4   cases                    22302 non-null  int64  \n",
            " 5   deaths                   22302 non-null  int64  \n",
            " 6   countriesAndTerritories  22302 non-null  object \n",
            " 7   geoId                    22302 non-null  object \n",
            " 8   countryterritoryCode     22302 non-null  object \n",
            " 9   popData2018              22302 non-null  float64\n",
            " 10  continentExp             22302 non-null  object \n",
            "dtypes: float64(1), int64(5), object(5)\n",
            "memory usage: 2.0+ MB\n"
          ],
          "name": "stdout"
        }
      ]
    },
    {
      "cell_type": "code",
      "metadata": {
        "id": "OOlqL2D1JUGA",
        "colab_type": "code",
        "outputId": "4e6983e0-7ba0-4281-e0e9-bf63a11db4f3",
        "colab": {
          "base_uri": "https://localhost:8080/",
          "height": 230
        }
      },
      "source": [
        "### ANALIZA PREDYKCYJNA - PROGNOZA SKUMULOWANEJ ILOŚĆ ZACHOROWAŃ NA TERENIE STANÓW ZJEDNOCZONYCH\n",
        "\n",
        "tab_us = spark.sql(\n",
        "    \"SELECT * \\\n",
        "     FROM dataset \\\n",
        "     WHERE geoId LIKE 'US' \\\n",
        "     ORDER BY YEAR ASC, MONTH ASC, DAY ASC \"\n",
        "    )\n",
        "tab_us.createOrReplaceTempView(\"tab_us\")\n",
        "tab_us.show(5)\n"
      ],
      "execution_count": 15,
      "outputs": [
        {
          "output_type": "stream",
          "text": [
            "+----------+---+-----+----+-----+------+-----------------------+-----+--------------------+------------+------------+--------------------------------+---------------------------------+\n",
            "|   dateRep|day|month|year|cases|deaths|countriesAndTerritories|geoId|countryterritoryCode| popData2018|continentExp|daily_cases_per_100k_inhabitants|daily_deaths_per_100k_inhabitants|\n",
            "+----------+---+-----+----+-----+------+-----------------------+-----+--------------------+------------+------------+--------------------------------+---------------------------------+\n",
            "|31/12/2019| 31|   12|2019|    0|     0|   United_States_of_...|   US|                 USA|3.27167434E8|     America|                             0.0|                              0.0|\n",
            "|01/01/2020|  1|    1|2020|    0|     0|   United_States_of_...|   US|                 USA|3.27167434E8|     America|                             0.0|                              0.0|\n",
            "|02/01/2020|  2|    1|2020|    0|     0|   United_States_of_...|   US|                 USA|3.27167434E8|     America|                             0.0|                              0.0|\n",
            "|03/01/2020|  3|    1|2020|    0|     0|   United_States_of_...|   US|                 USA|3.27167434E8|     America|                             0.0|                              0.0|\n",
            "|04/01/2020|  4|    1|2020|    0|     0|   United_States_of_...|   US|                 USA|3.27167434E8|     America|                             0.0|                              0.0|\n",
            "+----------+---+-----+----+-----+------+-----------------------+-----+--------------------+------------+------------+--------------------------------+---------------------------------+\n",
            "only showing top 5 rows\n",
            "\n"
          ],
          "name": "stdout"
        }
      ]
    },
    {
      "cell_type": "code",
      "metadata": {
        "id": "5mWLTzRA5TJq",
        "colab_type": "code",
        "outputId": "90e15229-3aea-4182-aca0-bd70e10bc1f1",
        "colab": {
          "base_uri": "https://localhost:8080/",
          "height": 34
        }
      },
      "source": [
        "import datetime\n",
        "from datetime import date\n",
        "\n",
        "today = date.today()\n",
        "today_l = str(today).split(\"-\")\n",
        "today_year = int(today_l[0])\n",
        "today_month = int(today_l[1])\n",
        "today_day = int(today_l[2])\n",
        "\n",
        "delta = datetime.timedelta(days=30)\n",
        "\n",
        "today + delta"
      ],
      "execution_count": 16,
      "outputs": [
        {
          "output_type": "execute_result",
          "data": {
            "text/plain": [
              "datetime.date(2020, 7, 11)"
            ]
          },
          "metadata": {
            "tags": []
          },
          "execution_count": 16
        }
      ]
    },
    {
      "cell_type": "code",
      "metadata": {
        "id": "vA-zSmwWW9bn",
        "colab_type": "code",
        "outputId": "156e19f8-f59b-467e-fbaa-8516ae707c5b",
        "colab": {
          "base_uri": "https://localhost:8080/",
          "height": 228
        }
      },
      "source": [
        "from pyspark.sql import Window\n",
        "from pyspark.sql.functions import monotonically_increasing_id\n",
        "\n",
        "tab_us = tab_us.withColumn('cumulative_cases', F.sum('cases').over(Window.rowsBetween(Window.unboundedPreceding, 0)))\n",
        "tab_us = tab_us.filter(tab_us.cumulative_cases > 0)\n",
        "\n",
        "tab_us = tab_us.withColumn(\"nr_of_the_pandemic_day\", monotonically_increasing_id())\n",
        "tab_us_model = tab_us.select(tab_us.nr_of_the_pandemic_day, tab_us.cumulative_cases)\n",
        "nr_of_tomorrow_pandemic_day = tab_us_model.count()\n",
        "tab_us_model = tab_us_model.orderBy(tab_us_model.cumulative_cases, ascending = False).limit(10)\n",
        "tab_us_model.show(5)\n",
        "print(nr_of_tomorrow_pandemic_day)"
      ],
      "execution_count": 17,
      "outputs": [
        {
          "output_type": "stream",
          "text": [
            "+----------------------+----------------+\n",
            "|nr_of_the_pandemic_day|cumulative_cases|\n",
            "+----------------------+----------------+\n",
            "|                   142|         2000464|\n",
            "|                   141|         1979850|\n",
            "|                   140|         1961185|\n",
            "|                   139|         1942363|\n",
            "|                   138|         1920061|\n",
            "+----------------------+----------------+\n",
            "only showing top 5 rows\n",
            "\n",
            "143\n"
          ],
          "name": "stdout"
        }
      ]
    },
    {
      "cell_type": "code",
      "metadata": {
        "id": "pmHVoF6_pzQX",
        "colab_type": "code",
        "colab": {}
      },
      "source": [
        "from pyspark.ml.feature import VectorAssembler\n",
        "vectorAssembler = VectorAssembler(inputCols = ['nr_of_the_pandemic_day'], outputCol = 'features')\n",
        "tab_us_model_trans = vectorAssembler.transform(tab_us_model)\n",
        "tab_us_model_trans = tab_us_model_trans.select(['features', 'cumulative_cases'])"
      ],
      "execution_count": 0,
      "outputs": []
    },
    {
      "cell_type": "code",
      "metadata": {
        "id": "L8K6k3PnBszL",
        "colab_type": "code",
        "outputId": "eefbad8a-8824-410a-83d2-d4c995ac57a0",
        "colab": {
          "base_uri": "https://localhost:8080/",
          "height": 52
        }
      },
      "source": [
        "from pyspark.ml.regression import LinearRegression\n",
        "lr = LinearRegression(featuresCol = 'features', labelCol='cumulative_cases')\n",
        "lr_model = lr.fit(tab_us_model_trans)\n",
        "print(\"Coefficients: \" + str(lr_model.coefficients))\n",
        "print(\"Intercept: \" + str(lr_model.intercept))"
      ],
      "execution_count": 19,
      "outputs": [
        {
          "output_type": "stream",
          "text": [
            "Coefficients: [21324.503030306532]\n",
            "Intercept: -1025215.2666671481\n"
          ],
          "name": "stdout"
        }
      ]
    },
    {
      "cell_type": "code",
      "metadata": {
        "id": "SPnFj01LIZxX",
        "colab_type": "code",
        "colab": {}
      },
      "source": [
        "next_d = 5\n",
        "df_len = nr_of_tomorrow_pandemic_day + next_d\n",
        "freq = 1\n",
        "test_set = spark.range(nr_of_tomorrow_pandemic_day, df_len, freq).toDF(\"next_{}_days\".format(next_d))\n",
        "\n",
        "vectorAssembler = VectorAssembler(inputCols = [\"next_{}_days\".format(next_d)], outputCol = 'features')\n",
        "tab_us_forecast_trans = vectorAssembler.transform(test_set)"
      ],
      "execution_count": 0,
      "outputs": []
    },
    {
      "cell_type": "code",
      "metadata": {
        "id": "VlVccgLHhrS_",
        "colab_type": "code",
        "outputId": "fd21375a-ef4d-4853-83a1-b6b9dbd397f6",
        "colab": {
          "base_uri": "https://localhost:8080/",
          "height": 193
        }
      },
      "source": [
        "lr_predictions = lr_model.transform(tab_us_forecast_trans)\n",
        "results = lr_predictions.withColumn(\"forecast\", F.round(lr_predictions.prediction))\n",
        "results = results.select([(\"next_{}_days\".format(next_d)), results.forecast])\n",
        "results.show()"
      ],
      "execution_count": 21,
      "outputs": [
        {
          "output_type": "stream",
          "text": [
            "+-----------+---------+\n",
            "|next_5_days| forecast|\n",
            "+-----------+---------+\n",
            "|        143|2024189.0|\n",
            "|        144|2045513.0|\n",
            "|        145|2066838.0|\n",
            "|        146|2088162.0|\n",
            "|        147|2109487.0|\n",
            "+-----------+---------+\n",
            "\n"
          ],
          "name": "stdout"
        }
      ]
    },
    {
      "cell_type": "code",
      "metadata": {
        "id": "c4MKF6kDy3WJ",
        "colab_type": "code",
        "colab": {}
      },
      "source": [
        "df_future = results.toPandas()\n",
        "df_past = tab_us.toPandas()"
      ],
      "execution_count": 0,
      "outputs": []
    },
    {
      "cell_type": "code",
      "metadata": {
        "id": "oMzdi1pfBnjc",
        "colab_type": "code",
        "outputId": "2ac862ca-eca6-466f-d76a-77043d09abd5",
        "colab": {
          "base_uri": "https://localhost:8080/",
          "height": 291
        }
      },
      "source": [
        "plt.plot(df_future[\"next_{}_days\".format(next_d)], list(df_future.forecast),'--b', label = \"predykcja na następne {} dni\".format(next_d))\n",
        "plt.plot(list(df_past.nr_of_the_pandemic_day), list(df_past.cumulative_cases),'--r', label = \"dane historyczne\")\n",
        "plt.legend(loc='upper left', frameon=False)\n",
        "plt.xlabel(\"dzień pandemii w USA\")\n",
        "plt.ylabel(\"skumulowana liczba przypadków (M)\")\n",
        "plt.show()"
      ],
      "execution_count": 23,
      "outputs": [
        {
          "output_type": "display_data",
          "data": {
            "image/png": "[encoded data removed]",
            "text/plain": [
              "<Figure size 432x288 with 1 Axes>"
            ]
          },
          "metadata": {
            "tags": [],
            "needs_background": "light"
          }
        }
      ]
    },
    {
      "cell_type": "code",
      "metadata": {
        "id": "Gj57WaytBseX",
        "colab_type": "code",
        "colab": {}
      },
      "source": [
        "yesterday = list(df_past.cumulative_cases)[-2]\n",
        "today = list(df_past.cumulative_cases)[-1]\n",
        "tomorrow = list(df_future.forecast)[0]\n",
        "the_day_after_tomorrow = list(df_future.forecast)[1]"
      ],
      "execution_count": 0,
      "outputs": []
    },
    {
      "cell_type": "code",
      "metadata": {
        "id": "hfGy1oDVJHeC",
        "colab_type": "code",
        "colab": {
          "base_uri": "https://localhost:8080/",
          "height": 201
        },
        "outputId": "b4bcb66d-b9d6-4001-ddb8-4afea1303604"
      },
      "source": [
        "print(\"Informacje na temat rozwoju pandemii w USA dla najbliższych 2 dni.\\n\")\n",
        "pd.DataFrame({\"dzień\":[\"wczoraj\", \"dzisiaj\", \"jutro\", \"pojutrze\"],\"skumulowana_ilość_przypadków\":[yesterday, today, tomorrow, the_day_after_tomorrow]} )\n"
      ],
      "execution_count": 25,
      "outputs": [
        {
          "output_type": "stream",
          "text": [
            "Informacje na temat rozwoju pandemii w USA dla najbliższych 2 dni.\n",
            "\n"
          ],
          "name": "stdout"
        },
        {
          "output_type": "execute_result",
          "data": {
            "text/html": [
              "<div>\n",
              "<style scoped>\n",
              "    .dataframe tbody tr th:only-of-type {\n",
              "        vertical-align: middle;\n",
              "    }\n",
              "\n",
              "    .dataframe tbody tr th {\n",
              "        vertical-align: top;\n",
              "    }\n",
              "\n",
              "    .dataframe thead th {\n",
              "        text-align: right;\n",
              "    }\n",
              "</style>\n",
              "<table border=\"1\" class=\"dataframe\">\n",
              "  <thead>\n",
              "    <tr style=\"text-align: right;\">\n",
              "      <th></th>\n",
              "      <th>dzień</th>\n",
              "      <th>skumulowana_ilość_przypadków</th>\n",
              "    </tr>\n",
              "  </thead>\n",
              "  <tbody>\n",
              "    <tr>\n",
              "      <th>0</th>\n",
              "      <td>wczoraj</td>\n",
              "      <td>1979850.0</td>\n",
              "    </tr>\n",
              "    <tr>\n",
              "      <th>1</th>\n",
              "      <td>dzisiaj</td>\n",
              "      <td>2000464.0</td>\n",
              "    </tr>\n",
              "    <tr>\n",
              "      <th>2</th>\n",
              "      <td>jutro</td>\n",
              "      <td>2024189.0</td>\n",
              "    </tr>\n",
              "    <tr>\n",
              "      <th>3</th>\n",
              "      <td>pojutrze</td>\n",
              "      <td>2045513.0</td>\n",
              "    </tr>\n",
              "  </tbody>\n",
              "</table>\n",
              "</div>"
            ],
            "text/plain": [
              "      dzień  skumulowana_ilość_przypadków\n",
              "0   wczoraj                     1979850.0\n",
              "1   dzisiaj                     2000464.0\n",
              "2     jutro                     2024189.0\n",
              "3  pojutrze                     2045513.0"
            ]
          },
          "metadata": {
            "tags": []
          },
          "execution_count": 25
        }
      ]
    }
  ]
}